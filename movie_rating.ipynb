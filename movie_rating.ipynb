{
  "nbformat": 4,
  "nbformat_minor": 0,
  "metadata": {
    "colab": {
      "name": "movie_rating.ipynb",
      "provenance": [],
      "collapsed_sections": []
    },
    "kernelspec": {
      "name": "python3",
      "display_name": "Python 3"
    },
    "language_info": {
      "name": "python"
    }
  },
  "cells": [
    {
      "cell_type": "markdown",
      "source": [
        "**Import**"
      ],
      "metadata": {
        "id": "eks1R9rEYseS"
      }
    },
    {
      "cell_type": "code",
      "execution_count": null,
      "metadata": {
        "id": "b0i-4bxxTQ-F"
      },
      "outputs": [],
      "source": [
        "import numpy as np \n",
        "import pandas as pd \n",
        "import matplotlib as mpl \n",
        "import matplotlib.pyplot as plt \n",
        "import seaborn as sns  \n",
        "from matplotlib.pyplot import figure\n",
        "import string\n",
        "import os\n",
        "import tensorflow as tf\n",
        "import cv2"
      ]
    },
    {
      "cell_type": "code",
      "source": [
        "data=pd.read_csv('/content/movie.csv')\n",
        "data.head()"
      ],
      "metadata": {
        "colab": {
          "base_uri": "https://localhost:8080/",
          "height": 206
        },
        "id": "R8fAqLQ6TcwS",
        "outputId": "8e7a806a-bd84-4cf0-e5d5-8f7fbf05789f"
      },
      "execution_count": null,
      "outputs": [
        {
          "output_type": "execute_result",
          "data": {
            "text/html": [
              "\n",
              "  <div id=\"df-c4166fa3-a353-4ad0-a8ce-fe8427ed0755\">\n",
              "    <div class=\"colab-df-container\">\n",
              "      <div>\n",
              "<style scoped>\n",
              "    .dataframe tbody tr th:only-of-type {\n",
              "        vertical-align: middle;\n",
              "    }\n",
              "\n",
              "    .dataframe tbody tr th {\n",
              "        vertical-align: top;\n",
              "    }\n",
              "\n",
              "    .dataframe thead th {\n",
              "        text-align: right;\n",
              "    }\n",
              "</style>\n",
              "<table border=\"1\" class=\"dataframe\">\n",
              "  <thead>\n",
              "    <tr style=\"text-align: right;\">\n",
              "      <th></th>\n",
              "      <th>text</th>\n",
              "      <th>label</th>\n",
              "    </tr>\n",
              "  </thead>\n",
              "  <tbody>\n",
              "    <tr>\n",
              "      <th>0</th>\n",
              "      <td>I grew up (b. 1965) watching and loving the Th...</td>\n",
              "      <td>0</td>\n",
              "    </tr>\n",
              "    <tr>\n",
              "      <th>1</th>\n",
              "      <td>When I put this movie in my DVD player, and sa...</td>\n",
              "      <td>0</td>\n",
              "    </tr>\n",
              "    <tr>\n",
              "      <th>2</th>\n",
              "      <td>Why do people who do not know what a particula...</td>\n",
              "      <td>0</td>\n",
              "    </tr>\n",
              "    <tr>\n",
              "      <th>3</th>\n",
              "      <td>Even though I have great interest in Biblical ...</td>\n",
              "      <td>0</td>\n",
              "    </tr>\n",
              "    <tr>\n",
              "      <th>4</th>\n",
              "      <td>Im a die hard Dads Army fan and nothing will e...</td>\n",
              "      <td>1</td>\n",
              "    </tr>\n",
              "  </tbody>\n",
              "</table>\n",
              "</div>\n",
              "      <button class=\"colab-df-convert\" onclick=\"convertToInteractive('df-c4166fa3-a353-4ad0-a8ce-fe8427ed0755')\"\n",
              "              title=\"Convert this dataframe to an interactive table.\"\n",
              "              style=\"display:none;\">\n",
              "        \n",
              "  <svg xmlns=\"http://www.w3.org/2000/svg\" height=\"24px\"viewBox=\"0 0 24 24\"\n",
              "       width=\"24px\">\n",
              "    <path d=\"M0 0h24v24H0V0z\" fill=\"none\"/>\n",
              "    <path d=\"M18.56 5.44l.94 2.06.94-2.06 2.06-.94-2.06-.94-.94-2.06-.94 2.06-2.06.94zm-11 1L8.5 8.5l.94-2.06 2.06-.94-2.06-.94L8.5 2.5l-.94 2.06-2.06.94zm10 10l.94 2.06.94-2.06 2.06-.94-2.06-.94-.94-2.06-.94 2.06-2.06.94z\"/><path d=\"M17.41 7.96l-1.37-1.37c-.4-.4-.92-.59-1.43-.59-.52 0-1.04.2-1.43.59L10.3 9.45l-7.72 7.72c-.78.78-.78 2.05 0 2.83L4 21.41c.39.39.9.59 1.41.59.51 0 1.02-.2 1.41-.59l7.78-7.78 2.81-2.81c.8-.78.8-2.07 0-2.86zM5.41 20L4 18.59l7.72-7.72 1.47 1.35L5.41 20z\"/>\n",
              "  </svg>\n",
              "      </button>\n",
              "      \n",
              "  <style>\n",
              "    .colab-df-container {\n",
              "      display:flex;\n",
              "      flex-wrap:wrap;\n",
              "      gap: 12px;\n",
              "    }\n",
              "\n",
              "    .colab-df-convert {\n",
              "      background-color: #E8F0FE;\n",
              "      border: none;\n",
              "      border-radius: 50%;\n",
              "      cursor: pointer;\n",
              "      display: none;\n",
              "      fill: #1967D2;\n",
              "      height: 32px;\n",
              "      padding: 0 0 0 0;\n",
              "      width: 32px;\n",
              "    }\n",
              "\n",
              "    .colab-df-convert:hover {\n",
              "      background-color: #E2EBFA;\n",
              "      box-shadow: 0px 1px 2px rgba(60, 64, 67, 0.3), 0px 1px 3px 1px rgba(60, 64, 67, 0.15);\n",
              "      fill: #174EA6;\n",
              "    }\n",
              "\n",
              "    [theme=dark] .colab-df-convert {\n",
              "      background-color: #3B4455;\n",
              "      fill: #D2E3FC;\n",
              "    }\n",
              "\n",
              "    [theme=dark] .colab-df-convert:hover {\n",
              "      background-color: #434B5C;\n",
              "      box-shadow: 0px 1px 3px 1px rgba(0, 0, 0, 0.15);\n",
              "      filter: drop-shadow(0px 1px 2px rgba(0, 0, 0, 0.3));\n",
              "      fill: #FFFFFF;\n",
              "    }\n",
              "  </style>\n",
              "\n",
              "      <script>\n",
              "        const buttonEl =\n",
              "          document.querySelector('#df-c4166fa3-a353-4ad0-a8ce-fe8427ed0755 button.colab-df-convert');\n",
              "        buttonEl.style.display =\n",
              "          google.colab.kernel.accessAllowed ? 'block' : 'none';\n",
              "\n",
              "        async function convertToInteractive(key) {\n",
              "          const element = document.querySelector('#df-c4166fa3-a353-4ad0-a8ce-fe8427ed0755');\n",
              "          const dataTable =\n",
              "            await google.colab.kernel.invokeFunction('convertToInteractive',\n",
              "                                                     [key], {});\n",
              "          if (!dataTable) return;\n",
              "\n",
              "          const docLinkHtml = 'Like what you see? Visit the ' +\n",
              "            '<a target=\"_blank\" href=https://colab.research.google.com/notebooks/data_table.ipynb>data table notebook</a>'\n",
              "            + ' to learn more about interactive tables.';\n",
              "          element.innerHTML = '';\n",
              "          dataTable['output_type'] = 'display_data';\n",
              "          await google.colab.output.renderOutput(dataTable, element);\n",
              "          const docLink = document.createElement('div');\n",
              "          docLink.innerHTML = docLinkHtml;\n",
              "          element.appendChild(docLink);\n",
              "        }\n",
              "      </script>\n",
              "    </div>\n",
              "  </div>\n",
              "  "
            ],
            "text/plain": [
              "                                                text  label\n",
              "0  I grew up (b. 1965) watching and loving the Th...      0\n",
              "1  When I put this movie in my DVD player, and sa...      0\n",
              "2  Why do people who do not know what a particula...      0\n",
              "3  Even though I have great interest in Biblical ...      0\n",
              "4  Im a die hard Dads Army fan and nothing will e...      1"
            ]
          },
          "metadata": {},
          "execution_count": 22
        }
      ]
    },
    {
      "cell_type": "code",
      "source": [
        "data.info()"
      ],
      "metadata": {
        "id": "92Kv_6-Jx8kX",
        "outputId": "2ee12f75-928d-445e-ce9e-0a5b177749b8",
        "colab": {
          "base_uri": "https://localhost:8080/"
        }
      },
      "execution_count": null,
      "outputs": [
        {
          "output_type": "stream",
          "name": "stdout",
          "text": [
            "<class 'pandas.core.frame.DataFrame'>\n",
            "RangeIndex: 40000 entries, 0 to 39999\n",
            "Data columns (total 2 columns):\n",
            " #   Column  Non-Null Count  Dtype \n",
            "---  ------  --------------  ----- \n",
            " 0   text    40000 non-null  object\n",
            " 1   label   40000 non-null  int64 \n",
            "dtypes: int64(1), object(1)\n",
            "memory usage: 625.1+ KB\n"
          ]
        }
      ]
    },
    {
      "cell_type": "code",
      "source": [
        "max_length = 0\n",
        "for sentence in data[\"text\"]:\n",
        "    new_sentence = sentence.translate(str.maketrans(\"\",\"\",string.punctuation))\n",
        "    #print(new_sentence)\n",
        "    length = len(new_sentence.split(\" \"))\n",
        "    if length > max_length:\n",
        "        max_length = length"
      ],
      "metadata": {
        "id": "DR2_sw6d7YvN"
      },
      "execution_count": null,
      "outputs": []
    },
    {
      "cell_type": "code",
      "source": [
        "data[\"label\"].value_counts()"
      ],
      "metadata": {
        "colab": {
          "base_uri": "https://localhost:8080/"
        },
        "id": "b2TSufzt7cKb",
        "outputId": "e7a3cc4d-d88d-48d7-ddc7-5ded97a6039e"
      },
      "execution_count": null,
      "outputs": [
        {
          "output_type": "execute_result",
          "data": {
            "text/plain": [
              "0    20019\n",
              "1    19981\n",
              "Name: label, dtype: int64"
            ]
          },
          "metadata": {},
          "execution_count": 25
        }
      ]
    },
    {
      "cell_type": "markdown",
      "source": [
        "**With this function we will assign each word in the dataset, an integer. This function returns a dictionary**"
      ],
      "metadata": {
        "id": "SicfRLEWYnFC"
      }
    },
    {
      "cell_type": "code",
      "source": [
        "def tokenize_the_data_from_pandas(dataframe,column_name): # This function returns tokens dictionary that includes every unique word as keys and unique integers for each key.\n",
        "    #Here we clean the string out of punctuations.\n",
        "    import string\n",
        "    for sent in range(len(data[column_name])):\n",
        "        example_sentence = data[column_name].iloc[sent]\n",
        "        new_sentence = example_sentence.translate(str.maketrans(\"\",\"\",string.punctuation))\n",
        "        data[column_name].iloc[sent] = new_sentence\n",
        "    #Here we create a dictionary that will encode each word into an integer to have a representation of the word in the deep neural networks processes\n",
        "    tokens = {}\n",
        "    for sent in range(len(data[column_name])):\n",
        "        example_sentence = data[column_name].iloc[sent]\n",
        "        values = example_sentence.split(\" \")\n",
        "        for word in values:\n",
        "            tokens[word] = 0\n",
        "         \n",
        "    names = list(tokens.keys())\n",
        "    for num in range(len(names)):\n",
        "        tokens[names[num]] = num+1\n",
        "        \n",
        "    return tokens"
      ],
      "metadata": {
        "id": "1ZAudMvN7fMC"
      },
      "execution_count": null,
      "outputs": []
    },
    {
      "cell_type": "code",
      "source": [
        "tokens = tokenize_the_data_from_pandas(data,column_name=\"text\")"
      ],
      "metadata": {
        "colab": {
          "base_uri": "https://localhost:8080/"
        },
        "id": "O9zuRC437hPM",
        "outputId": "c95a7b95-7361-4019-a759-58bf1f6121c2"
      },
      "execution_count": null,
      "outputs": [
        {
          "output_type": "stream",
          "name": "stderr",
          "text": [
            "/usr/local/lib/python3.7/dist-packages/pandas/core/indexing.py:1732: SettingWithCopyWarning: \n",
            "A value is trying to be set on a copy of a slice from a DataFrame\n",
            "\n",
            "See the caveats in the documentation: https://pandas.pydata.org/pandas-docs/stable/user_guide/indexing.html#returning-a-view-versus-a-copy\n",
            "  self._setitem_single_block(indexer, value, name)\n"
          ]
        }
      ]
    },
    {
      "cell_type": "code",
      "source": [
        "len(tokens.keys())"
      ],
      "metadata": {
        "colab": {
          "base_uri": "https://localhost:8080/"
        },
        "id": "HRH7acFA7j1z",
        "outputId": "5865be3d-2713-4051-868e-c51a88141684"
      },
      "execution_count": null,
      "outputs": [
        {
          "output_type": "execute_result",
          "data": {
            "text/plain": [
              "190010"
            ]
          },
          "metadata": {},
          "execution_count": 28
        }
      ]
    },
    {
      "cell_type": "markdown",
      "source": [
        "**Creating the data vectors**"
      ],
      "metadata": {
        "id": "t6v2FSfdYimP"
      }
    },
    {
      "cell_type": "code",
      "source": [
        "X = []\n",
        "y = []\n",
        "for sent in range(len(data[\"text\"])):\n",
        "    example_sentence = data[\"text\"].iloc[sent]\n",
        "    values = example_sentence.split(\" \")\n",
        "    for word in range(len(values)):\n",
        "        values[word] = tokens[values[word]]\n",
        "    X.append(values)\n",
        "    y.append(data[\"label\"].iloc[sent])\n",
        "    \n",
        "\n",
        "#This code will pad the sequences with zeros to make every input the same length.\n",
        "from tensorflow.keras.preprocessing.sequence import pad_sequences\n",
        "max_length = max_length\n",
        "padded_docs = pad_sequences(X, maxlen=max_length, padding='post')\n",
        "#the code below changes the final data lists into numpy arrays so that we can train our neural network with.    \n",
        "X_ar = np.array(padded_docs)\n",
        "y_ar = np.array(y)\n",
        "#Here we split our data into train and test sets.\n",
        "from sklearn.model_selection import train_test_split\n",
        "X_train,X_test,y_train,y_test = train_test_split(X_ar,y_ar,test_size=0.1,random_state = 10)"
      ],
      "metadata": {
        "id": "setr72f87ygI"
      },
      "execution_count": null,
      "outputs": []
    },
    {
      "cell_type": "markdown",
      "source": [
        "**This is a 1D convolutional model for the task**"
      ],
      "metadata": {
        "id": "A-rzKfWQYeQW"
      }
    },
    {
      "cell_type": "code",
      "source": [
        "model = tf.keras.Sequential()\n",
        "model.add(tf.keras.layers.Embedding(190020,200,input_length=2470))#This embedding layer reduces the data dimension from 290 to 10 by creating relations and using floating numbers to represent the words.\n",
        "model.add(tf.keras.layers.Conv1D(32,7,activation=\"relu\"))\n",
        "model.add(tf.keras.layers.MaxPooling1D(5))\n",
        "model.add(tf.keras.layers.Conv1D(64,7,activation=\"relu\"))\n",
        "model.add(tf.keras.layers.MaxPooling1D(5))\n",
        "\n",
        "model.add(tf.keras.layers.Conv1D(64,7,activation=\"relu\"))\n",
        "model.add(tf.keras.layers.MaxPooling1D(5))\n",
        "\n",
        "model.add(tf.keras.layers.Flatten())\n",
        "model.add(tf.keras.layers.Dense(1, activation='sigmoid'))\n",
        "\n",
        "model.compile(optimizer = \"adam\",loss=\"binary_crossentropy\",metrics=[\"accuracy\"])\n",
        "model.fit(X_train,y_train,epochs=5,validation_data=(X_test,y_test))"
      ],
      "metadata": {
        "colab": {
          "base_uri": "https://localhost:8080/"
        },
        "id": "dWzjRc2A7mgL",
        "outputId": "53357109-7f2d-4f31-f277-b2e1223d8c80"
      },
      "execution_count": null,
      "outputs": [
        {
          "output_type": "stream",
          "name": "stdout",
          "text": [
            "Epoch 1/5\n",
            "1125/1125 [==============================] - 1299s 1s/step - loss: 0.3613 - accuracy: 0.8152 - val_loss: 0.2119 - val_accuracy: 0.9165\n",
            "Epoch 2/5\n",
            "1125/1125 [==============================] - 1294s 1s/step - loss: 0.1044 - accuracy: 0.9638 - val_loss: 0.2426 - val_accuracy: 0.9090\n",
            "Epoch 3/5\n",
            "1125/1125 [==============================] - 1290s 1s/step - loss: 0.0160 - accuracy: 0.9949 - val_loss: 0.5594 - val_accuracy: 0.8840\n",
            "Epoch 4/5\n",
            "1125/1125 [==============================] - 1291s 1s/step - loss: 0.0067 - accuracy: 0.9981 - val_loss: 0.4611 - val_accuracy: 0.9022\n",
            "Epoch 5/5\n",
            "1125/1125 [==============================] - 1293s 1s/step - loss: 0.0109 - accuracy: 0.9963 - val_loss: 0.5609 - val_accuracy: 0.8882\n"
          ]
        },
        {
          "output_type": "execute_result",
          "data": {
            "text/plain": [
              "<keras.callbacks.History at 0x7f23fadb1450>"
            ]
          },
          "metadata": {},
          "execution_count": 30
        }
      ]
    },
    {
      "cell_type": "markdown",
      "source": [
        "**Predicting the test set to investiagte further**"
      ],
      "metadata": {
        "id": "rlAlNaRDYSvz"
      }
    },
    {
      "cell_type": "code",
      "source": [
        "y_pred=model.predict(X_test[:])"
      ],
      "metadata": {
        "id": "LF5jkwVt7pF1"
      },
      "execution_count": null,
      "outputs": []
    },
    {
      "cell_type": "markdown",
      "source": [
        "**We turn our networks output into binary values**"
      ],
      "metadata": {
        "id": "GLgnLS3_YOrX"
      }
    },
    {
      "cell_type": "code",
      "source": [
        "y_pred[y_pred>0.5] = 1\n",
        "y_pred[y_pred< 0.5] = 0"
      ],
      "metadata": {
        "id": "VMinT38z7qwW"
      },
      "execution_count": null,
      "outputs": []
    },
    {
      "cell_type": "code",
      "source": [
        "Truth = 0\n",
        "Falset = 0\n",
        "for pik in range(len(y_pred)):\n",
        "    \n",
        "    result = y_pred[pik] == y_test[pik]\n",
        "    if False in result:\n",
        "        Falset += 1 \n",
        "    else:\n",
        "        Truth += 1"
      ],
      "metadata": {
        "id": "YUEO-s5i736R"
      },
      "execution_count": null,
      "outputs": []
    },
    {
      "cell_type": "code",
      "source": [
        "print(Truth,Falset)"
      ],
      "metadata": {
        "colab": {
          "base_uri": "https://localhost:8080/"
        },
        "id": "2K-8U1zN750F",
        "outputId": "cb1426e1-5d8e-4798-da26-fdab0fdece14"
      },
      "execution_count": null,
      "outputs": [
        {
          "output_type": "stream",
          "name": "stdout",
          "text": [
            "3553 447\n"
          ]
        }
      ]
    },
    {
      "cell_type": "code",
      "source": [
        "print(\"accuracy:\",Truth / (Truth + Falset))"
      ],
      "metadata": {
        "colab": {
          "base_uri": "https://localhost:8080/"
        },
        "id": "-VxPQn7k77oF",
        "outputId": "5d3b609d-521e-4ad7-cff5-0376e5a1657e"
      },
      "execution_count": null,
      "outputs": [
        {
          "output_type": "stream",
          "name": "stdout",
          "text": [
            "accuracy: 0.88825\n"
          ]
        }
      ]
    }
  ]
}